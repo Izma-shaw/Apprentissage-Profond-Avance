{
 "cells": [
  {
   "cell_type": "markdown",
   "metadata": {},
   "source": [
    "# Introduction to Numpy\n",
    "\n",
    "NumPy is THE fundamental library for scientific calculation in python. You can play with this library to do deeplearning but NumPy is not the best choice... Nevertheless, most scientific libs rely on NumPy conventions and APIs so it is important to have some knowledges about it. If you are familiar with NumPy, you can skip this section and go to the section _Introduction to Tensorflow_\n",
    "\n",
    "## The `ndarray` class\n",
    "\n",
    "To use NumPy you should import it with the following command"
   ]
  },
  {
   "cell_type": "code",
   "execution_count": 1,
   "metadata": {},
   "outputs": [],
   "source": [
    "import numpy as np"
   ]
  },
  {
   "cell_type": "markdown",
   "metadata": {},
   "source": [
    "Now you can use Numpy with the shortcut `np`.\n",
    "\n",
    "The fundamental class of NumPy is `ndarray`. It represents table of items, with the following constraints:\n",
    "\n",
    "* It's _multidimensional_ (1d, 2d, 3d, ..., nd),\n",
    "* It's _homogeneous_, that is, all items inside the table should belong to the same type.\n",
    "\n"
   ]
  },
  {
   "cell_type": "code",
   "execution_count": 2,
   "metadata": {},
   "outputs": [
    {
     "data": {
      "text/plain": [
       "array([[1. , 2. , 3. ],\n",
       "       [3. , 4. , 0.5]])"
      ]
     },
     "execution_count": 2,
     "metadata": {},
     "output_type": "execute_result"
    }
   ],
   "source": [
    "# Ndarray instanciation from known values\n",
    "a = np.array([[1., 2., 3.], [3., 4., .5]])\n",
    "a"
   ]
  },
  {
   "cell_type": "code",
   "execution_count": 3,
   "metadata": {},
   "outputs": [
    {
     "data": {
      "text/plain": [
       "numpy.ndarray"
      ]
     },
     "execution_count": 3,
     "metadata": {},
     "output_type": "execute_result"
    }
   ],
   "source": [
    "# Type of a\n",
    "type(a)"
   ]
  },
  {
   "cell_type": "code",
   "execution_count": 4,
   "metadata": {},
   "outputs": [
    {
     "data": {
      "text/plain": [
       "2"
      ]
     },
     "execution_count": 4,
     "metadata": {},
     "output_type": "execute_result"
    }
   ],
   "source": [
    "# 'Rank' as mention in NumPy doc or number of dimensions\n",
    "a.ndim"
   ]
  },
  {
   "cell_type": "code",
   "execution_count": 5,
   "metadata": {},
   "outputs": [
    {
     "data": {
      "text/plain": [
       "(2, 3)"
      ]
     },
     "execution_count": 5,
     "metadata": {},
     "output_type": "execute_result"
    }
   ],
   "source": [
    "# Shape of the ndarray\n",
    "a.shape"
   ]
  },
  {
   "cell_type": "code",
   "execution_count": 6,
   "metadata": {},
   "outputs": [
    {
     "data": {
      "text/plain": [
       "6"
      ]
     },
     "execution_count": 6,
     "metadata": {},
     "output_type": "execute_result"
    }
   ],
   "source": [
    "# Total number of items\n",
    "a.size"
   ]
  },
  {
   "cell_type": "code",
   "execution_count": 7,
   "metadata": {},
   "outputs": [
    {
     "data": {
      "text/plain": [
       "dtype('float64')"
      ]
     },
     "execution_count": 7,
     "metadata": {},
     "output_type": "execute_result"
    }
   ],
   "source": [
    "# Item type\n",
    "a.dtype"
   ]
  },
  {
   "cell_type": "code",
   "execution_count": 8,
   "metadata": {},
   "outputs": [
    {
     "data": {
      "text/plain": [
       "<memory at 0x120f40d40>"
      ]
     },
     "execution_count": 8,
     "metadata": {},
     "output_type": "execute_result"
    }
   ],
   "source": [
    "# Actual data of the table\n",
    "a.data"
   ]
  },
  {
   "cell_type": "markdown",
   "metadata": {},
   "source": [
    "## Creation of a `ndarray`\n",
    "\n",
    "The basic constructors of `ndarray`are :\n",
    "\n",
    "* `numpy.array(object, dtype=None, copy=True, order=’K’, subok=False, ndmin=0)`\n",
    "Create an array from known values\n",
    "* `numpy.zeros(shape, dtype=float, order=’C)`\n",
    "Create an array full of zeros\n",
    "* `numpy.ones(shape, dtype=None, order=’C’)`\n",
    "Create an array full of ones\n",
    "\n",
    "`dtype` determines the type of each element, `order` indicates how elements are organized into `data` .\n",
    "\n",
    "**Take Care !** `dtype` is determined at instanciation and can not be changed after.\n"
   ]
  },
  {
   "cell_type": "code",
   "execution_count": 9,
   "metadata": {},
   "outputs": [
    {
     "data": {
      "text/plain": [
       "array([[1. , 2. , 3. ],\n",
       "       [3. , 4. , 0.5]])"
      ]
     },
     "execution_count": 9,
     "metadata": {},
     "output_type": "execute_result"
    }
   ],
   "source": [
    "np.array([[1., 2., 3.], [3., 4., .5]])"
   ]
  },
  {
   "cell_type": "code",
   "execution_count": 10,
   "metadata": {},
   "outputs": [
    {
     "data": {
      "text/plain": [
       "array([[0., 0., 0.],\n",
       "       [0., 0., 0.],\n",
       "       [0., 0., 0.],\n",
       "       [0., 0., 0.],\n",
       "       [0., 0., 0.]])"
      ]
     },
     "execution_count": 10,
     "metadata": {},
     "output_type": "execute_result"
    }
   ],
   "source": [
    "np.zeros((5, 3))"
   ]
  },
  {
   "cell_type": "code",
   "execution_count": 11,
   "metadata": {
    "scrolled": true
   },
   "outputs": [
    {
     "data": {
      "text/plain": [
       "array([[[1, 1, 1],\n",
       "        [1, 1, 1]],\n",
       "\n",
       "       [[1, 1, 1],\n",
       "        [1, 1, 1]]])"
      ]
     },
     "execution_count": 11,
     "metadata": {},
     "output_type": "execute_result"
    }
   ],
   "source": [
    "np.ones((2, 2, 3), dtype='int')"
   ]
  },
  {
   "cell_type": "markdown",
   "metadata": {},
   "source": [
    "Some other useful methods are :\n",
    "\n",
    "* `numpy.arange([start, ]stop, [step, ]dtype=None)`\n",
    "* `numpy.linspace(start, stop, num=50, endpoint=True, retstep=False, dtype=None)`\n",
    "* `numpy.logspace(start, stop, num=50, endpoint=True, base=10.0, dtype=None)`\n",
    "* `numpy.eye(N, M=None, k=0, dtype=float)`\n",
    "* `numpy.random.randn(d0, d1, ..., dn)`\n",
    "\n",
    "More creation routines are available [here](https://docs.scipy.org/doc/numpy/reference/routines.array-creation.html)."
   ]
  },
  {
   "cell_type": "code",
   "execution_count": 12,
   "metadata": {},
   "outputs": [
    {
     "data": {
      "text/plain": [
       "array([5, 6, 7, 8, 9])"
      ]
     },
     "execution_count": 12,
     "metadata": {},
     "output_type": "execute_result"
    }
   ],
   "source": [
    "np.arange(5, 10, 1)"
   ]
  },
  {
   "cell_type": "code",
   "execution_count": 13,
   "metadata": {},
   "outputs": [
    {
     "data": {
      "text/plain": [
       "array([0, 2, 4, 6, 8])"
      ]
     },
     "execution_count": 13,
     "metadata": {},
     "output_type": "execute_result"
    }
   ],
   "source": [
    "np.arange(0, 10, 2)"
   ]
  },
  {
   "cell_type": "code",
   "execution_count": 14,
   "metadata": {},
   "outputs": [
    {
     "data": {
      "text/plain": [
       "array([ 0.        ,  0.52631579,  1.05263158,  1.57894737,  2.10526316,\n",
       "        2.63157895,  3.15789474,  3.68421053,  4.21052632,  4.73684211,\n",
       "        5.26315789,  5.78947368,  6.31578947,  6.84210526,  7.36842105,\n",
       "        7.89473684,  8.42105263,  8.94736842,  9.47368421, 10.        ])"
      ]
     },
     "execution_count": 14,
     "metadata": {},
     "output_type": "execute_result"
    }
   ],
   "source": [
    "np.linspace(0, 10, 20)"
   ]
  },
  {
   "cell_type": "code",
   "execution_count": 15,
   "metadata": {},
   "outputs": [
    {
     "data": {
      "text/plain": [
       "array([1.00000000e+01, 2.97635144e+01, 8.85866790e+01, 2.63665090e+02,\n",
       "       7.84759970e+02, 2.33572147e+03, 6.95192796e+03, 2.06913808e+04,\n",
       "       6.15848211e+04, 1.83298071e+05, 5.45559478e+05, 1.62377674e+06,\n",
       "       4.83293024e+06, 1.43844989e+07, 4.28133240e+07, 1.27427499e+08,\n",
       "       3.79269019e+08, 1.12883789e+09, 3.35981829e+09, 1.00000000e+10])"
      ]
     },
     "execution_count": 15,
     "metadata": {},
     "output_type": "execute_result"
    }
   ],
   "source": [
    "np.logspace(1, 10, 20)"
   ]
  },
  {
   "cell_type": "code",
   "execution_count": 16,
   "metadata": {},
   "outputs": [
    {
     "data": {
      "text/plain": [
       "array([[1., 0., 0.],\n",
       "       [0., 1., 0.],\n",
       "       [0., 0., 1.]])"
      ]
     },
     "execution_count": 16,
     "metadata": {},
     "output_type": "execute_result"
    }
   ],
   "source": [
    "np.eye(3)"
   ]
  },
  {
   "cell_type": "code",
   "execution_count": 17,
   "metadata": {},
   "outputs": [
    {
     "data": {
      "text/plain": [
       "array([[1., 0., 0., 0.],\n",
       "       [0., 1., 0., 0.],\n",
       "       [0., 0., 1., 0.]])"
      ]
     },
     "execution_count": 17,
     "metadata": {},
     "output_type": "execute_result"
    }
   ],
   "source": [
    "np.eye(3, 4)"
   ]
  },
  {
   "cell_type": "code",
   "execution_count": 18,
   "metadata": {},
   "outputs": [
    {
     "data": {
      "text/plain": [
       "array([[ 0.60616019,  1.08343872, -0.2240689 ,  0.37609485],\n",
       "       [ 1.17988919, -1.56132697, -0.78329256, -0.89763815],\n",
       "       [-0.42291922,  0.94128562, -1.12592912, -0.623465  ]])"
      ]
     },
     "execution_count": 18,
     "metadata": {},
     "output_type": "execute_result"
    }
   ],
   "source": [
    "np.random.randn(3, 4)\n",
    "# !!! shape is given dimension by dimension as arguments not in one tuple"
   ]
  },
  {
   "cell_type": "markdown",
   "metadata": {},
   "source": [
    "## Indexation / Slicing\n",
    "\n",
    "### Monodimensional indexation\n",
    "\n",
    "Indexing and slicing are done with the operator `[]` as for list."
   ]
  },
  {
   "cell_type": "code",
   "execution_count": 19,
   "metadata": {},
   "outputs": [
    {
     "data": {
      "text/plain": [
       "array([ 1.16433506, -0.32221425,  0.25778607,  0.48871717, -0.23922105,\n",
       "        1.20660032, -0.55452082, -0.27195536, -0.10656522,  1.64121768])"
      ]
     },
     "execution_count": 19,
     "metadata": {},
     "output_type": "execute_result"
    }
   ],
   "source": [
    "a = np.random.randn(10)\n",
    "a"
   ]
  },
  {
   "cell_type": "code",
   "execution_count": 20,
   "metadata": {},
   "outputs": [
    {
     "data": {
      "text/plain": [
       "1.164335058796136"
      ]
     },
     "execution_count": 20,
     "metadata": {},
     "output_type": "execute_result"
    }
   ],
   "source": [
    "# First item\n",
    "a[0]"
   ]
  },
  {
   "cell_type": "code",
   "execution_count": 21,
   "metadata": {},
   "outputs": [
    {
     "data": {
      "text/plain": [
       "1.641217681220214"
      ]
     },
     "execution_count": 21,
     "metadata": {},
     "output_type": "execute_result"
    }
   ],
   "source": [
    "# Last item\n",
    "a[-1]"
   ]
  },
  {
   "cell_type": "code",
   "execution_count": 22,
   "metadata": {},
   "outputs": [
    {
     "data": {
      "text/plain": [
       "array([ 0.25778607,  0.48871717, -0.23922105])"
      ]
     },
     "execution_count": 22,
     "metadata": {},
     "output_type": "execute_result"
    }
   ],
   "source": [
    "# From item 2 to item 5 (excluded !)\n",
    "a[2:5]"
   ]
  },
  {
   "cell_type": "code",
   "execution_count": 23,
   "metadata": {},
   "outputs": [
    {
     "data": {
      "text/plain": [
       "array([ 1.16433506, -0.32221425,  0.25778607])"
      ]
     },
     "execution_count": 23,
     "metadata": {},
     "output_type": "execute_result"
    }
   ],
   "source": [
    "# Eliptic formulation\n",
    "# 3 first items\n",
    "a[:3]"
   ]
  },
  {
   "cell_type": "code",
   "execution_count": 24,
   "metadata": {},
   "outputs": [
    {
     "data": {
      "text/plain": [
       "array([ 0.48871717, -0.23922105,  1.20660032, -0.55452082, -0.27195536,\n",
       "       -0.10656522,  1.64121768])"
      ]
     },
     "execution_count": 24,
     "metadata": {},
     "output_type": "execute_result"
    }
   ],
   "source": [
    "# Starting from the 4th item\n",
    "a[3:]"
   ]
  },
  {
   "cell_type": "code",
   "execution_count": 25,
   "metadata": {},
   "outputs": [
    {
     "data": {
      "text/plain": [
       "array([ 1.16433506, -0.32221425,  0.25778607,  0.48871717, -0.23922105,\n",
       "        1.20660032, -0.55452082, -0.27195536, -0.10656522,  1.64121768])"
      ]
     },
     "execution_count": 25,
     "metadata": {},
     "output_type": "execute_result"
    }
   ],
   "source": [
    "# All items\n",
    "a[:]"
   ]
  },
  {
   "cell_type": "code",
   "execution_count": 26,
   "metadata": {},
   "outputs": [
    {
     "data": {
      "text/plain": [
       "array([ 0.25778607, -0.23922105, -0.55452082])"
      ]
     },
     "execution_count": 26,
     "metadata": {},
     "output_type": "execute_result"
    }
   ],
   "source": [
    "# With a step\n",
    "a[2:8:2]"
   ]
  },
  {
   "cell_type": "code",
   "execution_count": 27,
   "metadata": {},
   "outputs": [
    {
     "data": {
      "text/plain": [
       "array([ 1.64121768, -0.10656522, -0.27195536, -0.55452082,  1.20660032,\n",
       "       -0.23922105,  0.48871717,  0.25778607, -0.32221425,  1.16433506])"
      ]
     },
     "execution_count": 27,
     "metadata": {},
     "output_type": "execute_result"
    }
   ],
   "source": [
    "# Reverse\n",
    "a[::-1]"
   ]
  },
  {
   "cell_type": "markdown",
   "metadata": {},
   "source": [
    "### Multidimensional indexation"
   ]
  },
  {
   "cell_type": "code",
   "execution_count": 28,
   "metadata": {},
   "outputs": [
    {
     "data": {
      "text/plain": [
       "array([[[-0.57764691,  0.0725287 ,  0.17787888,  1.02463507,\n",
       "         -1.03600176],\n",
       "        [ 0.3939148 ,  0.31163917, -1.14274504,  0.32648244,\n",
       "         -1.64760117],\n",
       "        [-1.23914186, -0.4113622 ,  0.55471875,  1.6606401 ,\n",
       "         -1.03489785],\n",
       "        [ 1.31944944, -0.06558464, -0.57498817, -0.52597785,\n",
       "          0.95018486]],\n",
       "\n",
       "       [[-0.94177535, -0.65571898, -0.24009783,  0.11925457,\n",
       "          2.48079609],\n",
       "        [ 0.11259129,  1.19217211,  1.5873622 , -0.19737594,\n",
       "          1.63659061],\n",
       "        [ 0.95456193,  1.12270818, -1.13270826,  0.93410428,\n",
       "         -0.74040062],\n",
       "        [ 1.63040502,  0.3596341 , -0.98242825,  0.03992308,\n",
       "         -1.16401228]],\n",
       "\n",
       "       [[ 0.55343368, -0.43444025, -1.2324443 , -2.00674008,\n",
       "         -0.48282975],\n",
       "        [-0.35611856,  0.50916111,  0.71659451,  0.58433746,\n",
       "          1.14835663],\n",
       "        [ 0.30524929,  0.50597895, -1.31456629,  0.41157335,\n",
       "          0.31026184],\n",
       "        [-0.21810683, -0.87837479,  2.8229405 ,  1.17932119,\n",
       "         -1.0779881 ]]])"
      ]
     },
     "execution_count": 28,
     "metadata": {},
     "output_type": "execute_result"
    }
   ],
   "source": [
    "b = np.random.randn(3, 4, 5)\n",
    "b"
   ]
  },
  {
   "cell_type": "code",
   "execution_count": 29,
   "metadata": {},
   "outputs": [
    {
     "data": {
      "text/plain": [
       "-0.5776469105994826"
      ]
     },
     "execution_count": 29,
     "metadata": {},
     "output_type": "execute_result"
    }
   ],
   "source": [
    "# First item on each axis\n",
    "b[0, 0, 0]"
   ]
  },
  {
   "cell_type": "code",
   "execution_count": 30,
   "metadata": {},
   "outputs": [
    {
     "data": {
      "text/plain": [
       "array([[-1.14274504,  0.32648244, -1.64760117],\n",
       "       [ 1.5873622 , -0.19737594,  1.63659061],\n",
       "       [ 0.71659451,  0.58433746,  1.14835663]])"
      ]
     },
     "execution_count": 30,
     "metadata": {},
     "output_type": "execute_result"
    }
   ],
   "source": [
    "# With an interval and ann elipse\n",
    "b[:, 1, 2:5]"
   ]
  },
  {
   "cell_type": "code",
   "execution_count": 31,
   "metadata": {},
   "outputs": [
    {
     "data": {
      "text/plain": [
       "array([[ 0.55343368, -0.43444025, -1.2324443 , -2.00674008, -0.48282975],\n",
       "       [-0.35611856,  0.50916111,  0.71659451,  0.58433746,  1.14835663],\n",
       "       [ 0.30524929,  0.50597895, -1.31456629,  0.41157335,  0.31026184],\n",
       "       [-0.21810683, -0.87837479,  2.8229405 ,  1.17932119, -1.0779881 ]])"
      ]
     },
     "execution_count": 31,
     "metadata": {},
     "output_type": "execute_result"
    }
   ],
   "source": [
    "# a[2] is equivalent to a[2,:,:]\n",
    "b[2]"
   ]
  },
  {
   "cell_type": "code",
   "execution_count": 32,
   "metadata": {},
   "outputs": [
    {
     "data": {
      "text/plain": [
       "array([[[[ 0.59505743, -0.15143831,  0.94895997],\n",
       "         [-0.53794754,  0.71656876, -0.8497542 ]],\n",
       "\n",
       "        [[ 0.91541166, -0.28991024, -0.45462799],\n",
       "         [-1.23738945,  1.44107894,  0.43814181]]],\n",
       "\n",
       "\n",
       "       [[[-0.61208687,  0.13369129, -0.34339933],\n",
       "         [-0.52188227,  0.69125424, -1.24580836]],\n",
       "\n",
       "        [[ 2.0771369 ,  1.08880695,  0.4691944 ],\n",
       "         [ 0.15204394, -0.78349188,  0.0889454 ]]]])"
      ]
     },
     "execution_count": 32,
     "metadata": {},
     "output_type": "execute_result"
    }
   ],
   "source": [
    "# Multiple elipses : c[1,...,2] is equivalent to c[1,:,:,2] on 4-D array\n",
    "c = np.random.randn(2, 2, 2, 3)\n",
    "c"
   ]
  },
  {
   "cell_type": "code",
   "execution_count": 33,
   "metadata": {},
   "outputs": [
    {
     "data": {
      "text/plain": [
       "array([[-0.34339933, -1.24580836],\n",
       "       [ 0.4691944 ,  0.0889454 ]])"
      ]
     },
     "execution_count": 33,
     "metadata": {},
     "output_type": "execute_result"
    }
   ],
   "source": [
    "c[1, ..., 2]"
   ]
  },
  {
   "cell_type": "code",
   "execution_count": 34,
   "metadata": {},
   "outputs": [
    {
     "data": {
      "text/plain": [
       "array([[-0.34339933, -1.24580836],\n",
       "       [ 0.4691944 ,  0.0889454 ]])"
      ]
     },
     "execution_count": 34,
     "metadata": {},
     "output_type": "execute_result"
    }
   ],
   "source": [
    "c[1, :, :, 2]"
   ]
  },
  {
   "cell_type": "markdown",
   "metadata": {},
   "source": [
    " ### Indexation implies cut in dimension ! (Warning for Matlab users)\n",
    " \n",
    " Important for matrix operation (multiplication...)"
   ]
  },
  {
   "cell_type": "code",
   "execution_count": 35,
   "metadata": {},
   "outputs": [
    {
     "data": {
      "text/plain": [
       "array([[ 0.24711917, -0.83832244,  0.82718966],\n",
       "       [ 0.49585881, -0.56881472,  0.97036443],\n",
       "       [-2.24873211,  0.17617817, -0.97267131],\n",
       "       [ 0.56953724, -0.83545757, -0.74184107]])"
      ]
     },
     "execution_count": 35,
     "metadata": {},
     "output_type": "execute_result"
    }
   ],
   "source": [
    "a = np.random.randn(4, 3)\n",
    "a"
   ]
  },
  {
   "cell_type": "code",
   "execution_count": 36,
   "metadata": {},
   "outputs": [
    {
     "data": {
      "text/plain": [
       "array([ 0.24711917,  0.49585881, -2.24873211,  0.56953724])"
      ]
     },
     "execution_count": 36,
     "metadata": {},
     "output_type": "execute_result"
    }
   ],
   "source": [
    "b = a[:, 0]\n",
    "b"
   ]
  },
  {
   "cell_type": "code",
   "execution_count": 37,
   "metadata": {},
   "outputs": [
    {
     "data": {
      "text/plain": [
       "(4,)"
      ]
     },
     "execution_count": 37,
     "metadata": {},
     "output_type": "execute_result"
    }
   ],
   "source": [
    "# b has shape (4,) not (4,1)\n",
    "b.shape"
   ]
  },
  {
   "cell_type": "code",
   "execution_count": 38,
   "metadata": {},
   "outputs": [
    {
     "data": {
      "text/plain": [
       "array([ 0.24711917, -0.83832244,  0.82718966])"
      ]
     },
     "execution_count": 38,
     "metadata": {},
     "output_type": "execute_result"
    }
   ],
   "source": [
    "c = a[0, :]\n",
    "c"
   ]
  },
  {
   "cell_type": "code",
   "execution_count": 39,
   "metadata": {},
   "outputs": [
    {
     "data": {
      "text/plain": [
       "(3,)"
      ]
     },
     "execution_count": 39,
     "metadata": {},
     "output_type": "execute_result"
    }
   ],
   "source": [
    "# c has shape (3,) not (1,3)\n",
    "c.shape"
   ]
  },
  {
   "cell_type": "code",
   "execution_count": 40,
   "metadata": {},
   "outputs": [
    {
     "data": {
      "text/plain": [
       "array([[ 0.24711917, -0.83832244,  0.82718966]])"
      ]
     },
     "execution_count": 40,
     "metadata": {},
     "output_type": "execute_result"
    }
   ],
   "source": [
    "# Meanwhile using slice and not index preserves dimension\n",
    "d = a[0:1, :]\n",
    "d"
   ]
  },
  {
   "cell_type": "code",
   "execution_count": 41,
   "metadata": {},
   "outputs": [
    {
     "data": {
      "text/plain": [
       "(1, 3)"
      ]
     },
     "execution_count": 41,
     "metadata": {},
     "output_type": "execute_result"
    }
   ],
   "source": [
    "d.shape"
   ]
  },
  {
   "cell_type": "markdown",
   "metadata": {},
   "source": [
    "## Assignation\n",
    "\n",
    "Assignation is performed by the operator `=`. Item or a sub-array can be targeted.\n"
   ]
  },
  {
   "cell_type": "code",
   "execution_count": 42,
   "metadata": {},
   "outputs": [
    {
     "data": {
      "text/plain": [
       "array([[1, 2, 3],\n",
       "       [4, 5, 6]])"
      ]
     },
     "execution_count": 42,
     "metadata": {},
     "output_type": "execute_result"
    }
   ],
   "source": [
    "a = np.array([[1, 2, 3], [4, 5, 6]], dtype=int)\n",
    "a"
   ]
  },
  {
   "cell_type": "code",
   "execution_count": 43,
   "metadata": {},
   "outputs": [
    {
     "data": {
      "text/plain": [
       "array([[10,  2,  3],\n",
       "       [ 4,  5,  6]])"
      ]
     },
     "execution_count": 43,
     "metadata": {},
     "output_type": "execute_result"
    }
   ],
   "source": [
    "a[0, 0] = 10\n",
    "a"
   ]
  },
  {
   "cell_type": "code",
   "execution_count": 44,
   "metadata": {},
   "outputs": [
    {
     "data": {
      "text/plain": [
       "array([[10,  1,  1],\n",
       "       [ 4,  1,  1]])"
      ]
     },
     "execution_count": 44,
     "metadata": {},
     "output_type": "execute_result"
    }
   ],
   "source": [
    "a[0:2, 1:3] = np.ones((2, 2))\n",
    "a"
   ]
  },
  {
   "cell_type": "markdown",
   "metadata": {},
   "source": [
    "**Take Care !** `dtype` is determined at instanciation and can not be changed after."
   ]
  },
  {
   "cell_type": "code",
   "execution_count": 45,
   "metadata": {},
   "outputs": [
    {
     "data": {
      "text/plain": [
       "array([[10,  1,  1],\n",
       "       [ 1,  1,  1]])"
      ]
     },
     "execution_count": 45,
     "metadata": {},
     "output_type": "execute_result"
    }
   ],
   "source": [
    "# 1.75 will be downcast before assignation\n",
    "a[1, 0] = 1.75\n",
    "a"
   ]
  },
  {
   "cell_type": "markdown",
   "metadata": {},
   "source": [
    "## Resize operation\n",
    "\n",
    "Arrays can be reshaped by the `resize` method. That's an in-place operation:\n"
   ]
  },
  {
   "cell_type": "code",
   "execution_count": 46,
   "metadata": {},
   "outputs": [
    {
     "data": {
      "text/plain": [
       "array([[10,  1],\n",
       "       [ 1,  1],\n",
       "       [ 1,  1]])"
      ]
     },
     "execution_count": 46,
     "metadata": {},
     "output_type": "execute_result"
    }
   ],
   "source": [
    "a.resize((3, 2))\n",
    "a"
   ]
  },
  {
   "cell_type": "markdown",
   "metadata": {},
   "source": [
    "## References, view and copy\n",
    "\n",
    "\n",
    "If `a` and `b` reference the same `ndarray`, all operation on `a`also applied to `b`. They share both data and metadata. \n",
    "\n",
    "If `c` is a view of `a`, they share the same data but not the metadata. For example shapes can be modified separately. But if we change the first element of `c`, the first element of `a` is also changed.\n",
    "\n",
    "If `d` is a copy of `a`, all data and metadata are separated.\n"
   ]
  },
  {
   "cell_type": "code",
   "execution_count": 47,
   "metadata": {},
   "outputs": [
    {
     "data": {
      "text/plain": [
       "array([[-2.2985055 , -1.06233181, -0.07975649],\n",
       "       [-0.72489904, -0.66519295,  1.50343383],\n",
       "       [-1.403098  , -0.18364155, -0.51704002],\n",
       "       [ 0.47854268,  1.65404307, -0.32911513]])"
      ]
     },
     "execution_count": 47,
     "metadata": {},
     "output_type": "execute_result"
    }
   ],
   "source": [
    "a = np.random.randn(4, 3)\n",
    "a"
   ]
  },
  {
   "cell_type": "code",
   "execution_count": 48,
   "metadata": {},
   "outputs": [
    {
     "data": {
      "text/plain": [
       "array([[ 1.        , -1.06233181, -0.07975649],\n",
       "       [-0.72489904, -0.66519295,  1.50343383],\n",
       "       [-1.403098  , -0.18364155, -0.51704002],\n",
       "       [ 0.47854268,  1.65404307, -0.32911513]])"
      ]
     },
     "execution_count": 48,
     "metadata": {},
     "output_type": "execute_result"
    }
   ],
   "source": [
    "# b is a reference to a\n",
    "b = a\n",
    "b[0, 0] = 1\n",
    "a"
   ]
  },
  {
   "cell_type": "code",
   "execution_count": 49,
   "metadata": {},
   "outputs": [
    {
     "data": {
      "text/plain": [
       "array([[ 1.        , -1.06233181, -0.07975649, -0.72489904],\n",
       "       [-0.66519295,  1.50343383, -1.403098  , -0.18364155],\n",
       "       [-0.51704002,  0.47854268,  1.65404307, -0.32911513]])"
      ]
     },
     "execution_count": 49,
     "metadata": {},
     "output_type": "execute_result"
    }
   ],
   "source": [
    "# c is a view of a\n",
    "c = a.view()\n",
    "c.resize(3, 4)\n",
    "c"
   ]
  },
  {
   "cell_type": "code",
   "execution_count": 50,
   "metadata": {},
   "outputs": [
    {
     "data": {
      "text/plain": [
       "array([[ 1.        , -1.06233181, -0.07975649],\n",
       "       [-0.72489904, -0.66519295,  1.50343383],\n",
       "       [-1.403098  , -0.18364155, -0.51704002],\n",
       "       [ 0.47854268,  1.65404307, -0.32911513]])"
      ]
     },
     "execution_count": 50,
     "metadata": {},
     "output_type": "execute_result"
    }
   ],
   "source": [
    "# Shape of a is not affected\n",
    "a"
   ]
  },
  {
   "cell_type": "code",
   "execution_count": 51,
   "metadata": {},
   "outputs": [
    {
     "data": {
      "text/plain": [
       "array([[ 1.        , -1.06233181, -0.07975649],\n",
       "       [-0.72489904, -0.66519295,  1.50343383],\n",
       "       [-1.403098  , -0.18364155, -0.51704002],\n",
       "       [ 0.47854268,  1.65404307,  0.        ]])"
      ]
     },
     "execution_count": 51,
     "metadata": {},
     "output_type": "execute_result"
    }
   ],
   "source": [
    "# But if we modify the last element of c, the last element of a is changed\n",
    "c[2, 3] = 0\n",
    "a"
   ]
  },
  {
   "cell_type": "code",
   "execution_count": 52,
   "metadata": {},
   "outputs": [
    {
     "data": {
      "text/plain": [
       "array([[ 1.        , -1.06233181, -0.07975649],\n",
       "       [-0.72489904, -0.66519295,  1.50343383],\n",
       "       [-1.403098  , -0.18364155, -0.51704002],\n",
       "       [ 0.47854268,  1.65404307,  0.        ]])"
      ]
     },
     "execution_count": 52,
     "metadata": {},
     "output_type": "execute_result"
    }
   ],
   "source": [
    "# d is a copy of a\n",
    "d = a.copy()\n",
    "d"
   ]
  },
  {
   "cell_type": "code",
   "execution_count": 53,
   "metadata": {},
   "outputs": [
    {
     "data": {
      "text/plain": [
       "array([[ 3.        , -1.06233181, -0.07975649],\n",
       "       [-0.72489904, -0.66519295,  1.50343383],\n",
       "       [-1.403098  , -0.18364155, -0.51704002],\n",
       "       [ 0.47854268,  1.65404307,  0.        ]])"
      ]
     },
     "execution_count": 53,
     "metadata": {},
     "output_type": "execute_result"
    }
   ],
   "source": [
    "d[0, 0] = 3\n",
    "d"
   ]
  },
  {
   "cell_type": "code",
   "execution_count": 54,
   "metadata": {},
   "outputs": [
    {
     "data": {
      "text/plain": [
       "array([[ 1.        , -1.06233181, -0.07975649],\n",
       "       [-0.72489904, -0.66519295,  1.50343383],\n",
       "       [-1.403098  , -0.18364155, -0.51704002],\n",
       "       [ 0.47854268,  1.65404307,  0.        ]])"
      ]
     },
     "execution_count": 54,
     "metadata": {},
     "output_type": "execute_result"
    }
   ],
   "source": [
    "# a was not modified by the assigniation on d\n",
    "a"
   ]
  },
  {
   "cell_type": "markdown",
   "metadata": {},
   "source": [
    "## Shape manipulation\n",
    "\n",
    "* `ndarray.resize(new shape, refcheck=True)`\n",
    "Resize in-place\n",
    "* `ndarray.reshape(shape, order=’C’)`\n",
    "Return a view with a new shape\n",
    "* `ndarray.ravel(order=’C’)`\n",
    "Return a flatten view\n",
    "* `ndarray.flatten(order=’C’)`\n",
    "Return a flatten copy\n",
    "* `numpy.concatenate((a1, a2, ...), axis=0)`\n",
    "Return a concatenation of arrays along an existing axis\n",
    "* `numpy.stack((a1, a2, ...), axis=0)`\n",
    "Return a stack of arrays along a new axis\n",
    "\n"
   ]
  },
  {
   "cell_type": "code",
   "execution_count": null,
   "metadata": {},
   "outputs": [],
   "source": []
  },
  {
   "cell_type": "markdown",
   "metadata": {},
   "source": [
    "## Operations\n",
    "\n",
    "Simple operations +, -, \\*, \\*\\*, / operate item by item"
   ]
  },
  {
   "cell_type": "code",
   "execution_count": 55,
   "metadata": {},
   "outputs": [
    {
     "data": {
      "text/plain": [
       "array([[ 0.11841939, -0.47439418,  1.30423905],\n",
       "       [-0.88345197,  0.62403659,  2.01717748],\n",
       "       [-1.18769552, -2.3955826 , -1.24063451],\n",
       "       [ 0.15909517, -1.63103419, -1.4780723 ]])"
      ]
     },
     "execution_count": 55,
     "metadata": {},
     "output_type": "execute_result"
    }
   ],
   "source": [
    "a = np.random.randn(4, 3)\n",
    "a"
   ]
  },
  {
   "cell_type": "code",
   "execution_count": 56,
   "metadata": {},
   "outputs": [
    {
     "data": {
      "text/plain": [
       "array([[ 0.14366041,  0.38297148, -0.98032245],\n",
       "       [-0.2361172 , -0.47392511,  0.91582155],\n",
       "       [ 1.51206043, -2.68432059, -2.03759569],\n",
       "       [ 0.2726835 ,  0.66790811, -0.79897169]])"
      ]
     },
     "execution_count": 56,
     "metadata": {},
     "output_type": "execute_result"
    }
   ],
   "source": [
    "b = np.random.randn(4, 3)\n",
    "b"
   ]
  },
  {
   "cell_type": "code",
   "execution_count": 57,
   "metadata": {},
   "outputs": [
    {
     "data": {
      "text/plain": [
       "array([[ 0.26207981, -0.09142269,  0.32391659],\n",
       "       [-1.11956917,  0.15011148,  2.93299904],\n",
       "       [ 0.32436491, -5.07990319, -3.27823019],\n",
       "       [ 0.43177868, -0.96312608, -2.27704399]])"
      ]
     },
     "execution_count": 57,
     "metadata": {},
     "output_type": "execute_result"
    }
   ],
   "source": [
    "a + b"
   ]
  },
  {
   "cell_type": "code",
   "execution_count": 58,
   "metadata": {},
   "outputs": [
    {
     "data": {
      "text/plain": [
       "array([[ 0.01701218, -0.18167944, -1.27857482],\n",
       "       [ 0.2085982 , -0.29574661,  1.84737461],\n",
       "       [-1.79586739,  6.4305117 ,  2.52791152],\n",
       "       [ 0.04338263, -1.08938097,  1.18093793]])"
      ]
     },
     "execution_count": 58,
     "metadata": {},
     "output_type": "execute_result"
    }
   ],
   "source": [
    "a * b"
   ]
  },
  {
   "cell_type": "code",
   "execution_count": 59,
   "metadata": {},
   "outputs": [
    {
     "data": {
      "text/plain": [
       "array([[0.01402315, 0.22504983, 1.70103949],\n",
       "       [0.78048738, 0.38942166, 4.06900501],\n",
       "       [1.41062065, 5.73881601, 1.53917398],\n",
       "       [0.02531127, 2.66027253, 2.18469772]])"
      ]
     },
     "execution_count": 59,
     "metadata": {},
     "output_type": "execute_result"
    }
   ],
   "source": [
    "a ** 2"
   ]
  },
  {
   "cell_type": "markdown",
   "metadata": {},
   "source": [
    "Arrays can be viewed as set where we can get min/max of all items."
   ]
  },
  {
   "cell_type": "code",
   "execution_count": 60,
   "metadata": {},
   "outputs": [
    {
     "data": {
      "text/plain": [
       "-2.3955826025517113"
      ]
     },
     "execution_count": 60,
     "metadata": {},
     "output_type": "execute_result"
    }
   ],
   "source": [
    "a.min()"
   ]
  },
  {
   "cell_type": "code",
   "execution_count": 61,
   "metadata": {},
   "outputs": [
    {
     "data": {
      "text/plain": [
       "2.0171774848388875"
      ]
     },
     "execution_count": 61,
     "metadata": {},
     "output_type": "execute_result"
    }
   ],
   "source": [
    "a.max()"
   ]
  },
  {
   "cell_type": "code",
   "execution_count": 62,
   "metadata": {},
   "outputs": [
    {
     "data": {
      "text/plain": [
       "7"
      ]
     },
     "execution_count": 62,
     "metadata": {},
     "output_type": "execute_result"
    }
   ],
   "source": [
    "# Position of the min in the flatten view of the array\n",
    "a.argmin()"
   ]
  },
  {
   "cell_type": "code",
   "execution_count": 63,
   "metadata": {},
   "outputs": [
    {
     "data": {
      "text/plain": [
       "5"
      ]
     },
     "execution_count": 63,
     "metadata": {},
     "output_type": "execute_result"
    }
   ],
   "source": [
    "a.argmax()"
   ]
  },
  {
   "cell_type": "markdown",
   "metadata": {},
   "source": [
    "If you want to compute an extremum along a particular axis, you should precise  `axis` in argument. As indexing, this reduce the dimension of the array. If you want to keep the same number of dimension, you should set the `keepdims` argument to `True`."
   ]
  },
  {
   "cell_type": "code",
   "execution_count": 64,
   "metadata": {},
   "outputs": [
    {
     "data": {
      "text/plain": [
       "array([-0.47439418, -0.88345197, -2.3955826 , -1.63103419])"
      ]
     },
     "execution_count": 64,
     "metadata": {},
     "output_type": "execute_result"
    }
   ],
   "source": [
    "a.min(axis=1)"
   ]
  },
  {
   "cell_type": "code",
   "execution_count": 65,
   "metadata": {},
   "outputs": [
    {
     "data": {
      "text/plain": [
       "array([[-0.47439418],\n",
       "       [-0.88345197],\n",
       "       [-2.3955826 ],\n",
       "       [-1.63103419]])"
      ]
     },
     "execution_count": 65,
     "metadata": {},
     "output_type": "execute_result"
    }
   ],
   "source": [
    "a.min(axis=1, keepdims=True)"
   ]
  },
  {
   "cell_type": "markdown",
   "metadata": {},
   "source": [
    "## Broadcasting\n",
    "\n",
    "Broadcasting is a mechanism to automatically tile arrays of incompatible dimensions before an operation.\n",
    "This is a powerfull mechanism (you don't have to use `repmat` as in Matlab) but it can hide dimensionality errors."
   ]
  },
  {
   "cell_type": "code",
   "execution_count": 66,
   "metadata": {},
   "outputs": [
    {
     "data": {
      "text/plain": [
       "(1, 4)"
      ]
     },
     "execution_count": 66,
     "metadata": {},
     "output_type": "execute_result"
    }
   ],
   "source": [
    "a = np.array([[1, 2, 3, 4]])\n",
    "a.shape"
   ]
  },
  {
   "cell_type": "code",
   "execution_count": 67,
   "metadata": {},
   "outputs": [
    {
     "data": {
      "text/plain": [
       "(3, 1)"
      ]
     },
     "execution_count": 67,
     "metadata": {},
     "output_type": "execute_result"
    }
   ],
   "source": [
    "b = np.array([[5], [6], [7]])\n",
    "b.shape"
   ]
  },
  {
   "cell_type": "code",
   "execution_count": 68,
   "metadata": {},
   "outputs": [
    {
     "data": {
      "text/plain": [
       "array([[ 6,  7,  8,  9],\n",
       "       [ 7,  8,  9, 10],\n",
       "       [ 8,  9, 10, 11]])"
      ]
     },
     "execution_count": 68,
     "metadata": {},
     "output_type": "execute_result"
    }
   ],
   "source": [
    "# a and b are tiled, line by line for a, column by column for b, to enable the add operation\n",
    "c = a+b\n",
    "c"
   ]
  },
  {
   "cell_type": "code",
   "execution_count": 69,
   "metadata": {},
   "outputs": [
    {
     "data": {
      "text/plain": [
       "(3, 4)"
      ]
     },
     "execution_count": 69,
     "metadata": {},
     "output_type": "execute_result"
    }
   ],
   "source": [
    "c.shape"
   ]
  },
  {
   "cell_type": "markdown",
   "metadata": {},
   "source": [
    "## Linear Algebra\n",
    "### 1D arrays\n",
    "\n",
    "* `numpy.inner(a, b)`\n",
    "Return the inner/scalar product of 2 vectors\n",
    "* `numpy.outer(a, b)`\n",
    "Return the outer product of 2 vectors"
   ]
  },
  {
   "cell_type": "code",
   "execution_count": 70,
   "metadata": {},
   "outputs": [
    {
     "data": {
      "text/plain": [
       "array([1, 2, 3, 4])"
      ]
     },
     "execution_count": 70,
     "metadata": {},
     "output_type": "execute_result"
    }
   ],
   "source": [
    "a = np.array([1, 2, 3, 4])\n",
    "a"
   ]
  },
  {
   "cell_type": "code",
   "execution_count": 71,
   "metadata": {},
   "outputs": [
    {
     "data": {
      "text/plain": [
       "array([5, 6, 7, 8])"
      ]
     },
     "execution_count": 71,
     "metadata": {},
     "output_type": "execute_result"
    }
   ],
   "source": [
    "b = np.array([5, 6, 7, 8])\n",
    "b"
   ]
  },
  {
   "cell_type": "code",
   "execution_count": 72,
   "metadata": {},
   "outputs": [
    {
     "data": {
      "text/plain": [
       "70"
      ]
     },
     "execution_count": 72,
     "metadata": {},
     "output_type": "execute_result"
    }
   ],
   "source": [
    "np.inner(a, b)"
   ]
  },
  {
   "cell_type": "code",
   "execution_count": 73,
   "metadata": {},
   "outputs": [
    {
     "data": {
      "text/plain": [
       "array([[ 5,  6,  7,  8],\n",
       "       [10, 12, 14, 16],\n",
       "       [15, 18, 21, 24],\n",
       "       [20, 24, 28, 32]])"
      ]
     },
     "execution_count": 73,
     "metadata": {},
     "output_type": "execute_result"
    }
   ],
   "source": [
    "np.outer(a, b)"
   ]
  },
  {
   "cell_type": "markdown",
   "metadata": {},
   "source": [
    "### 2D arrays\n",
    "\n",
    "* `a.T` is the transposition of `a`\n",
    "* `numpy.dot(a, b)` return the matrix product between a and b."
   ]
  },
  {
   "cell_type": "code",
   "execution_count": 74,
   "metadata": {},
   "outputs": [
    {
     "data": {
      "text/plain": [
       "array([[ 0.2576092 ,  0.47543723, -0.82207224],\n",
       "       [-0.07447876, -1.08697823, -0.0768496 ],\n",
       "       [-0.00607162,  0.56257805,  0.0792357 ],\n",
       "       [-1.51167531, -0.60503362,  0.9520792 ],\n",
       "       [ 0.0949625 ,  0.29937258, -0.64353791]])"
      ]
     },
     "execution_count": 74,
     "metadata": {},
     "output_type": "execute_result"
    }
   ],
   "source": [
    "a = np.random.randn(3, 5)\n",
    "a.T"
   ]
  },
  {
   "cell_type": "code",
   "execution_count": 75,
   "metadata": {},
   "outputs": [
    {
     "data": {
      "text/plain": [
       "array([[-0.57993687,  0.53396444],\n",
       "       [ 0.28427718, -3.2148884 ],\n",
       "       [-1.08575208,  3.4177859 ]])"
      ]
     },
     "execution_count": 75,
     "metadata": {},
     "output_type": "execute_result"
    }
   ],
   "source": [
    "a = np.random.randn(3, 5)\n",
    "b = np.random.randn(5, 2)\n",
    "np.dot(a, b)"
   ]
  },
  {
   "cell_type": "code",
   "execution_count": 76,
   "metadata": {},
   "outputs": [
    {
     "data": {
      "text/plain": [
       "array([[-0.57993687,  0.53396444],\n",
       "       [ 0.28427718, -3.2148884 ],\n",
       "       [-1.08575208,  3.4177859 ]])"
      ]
     },
     "execution_count": 76,
     "metadata": {},
     "output_type": "execute_result"
    }
   ],
   "source": [
    "# Equivalent notation\n",
    "a.dot(b)"
   ]
  },
  {
   "cell_type": "code",
   "execution_count": 77,
   "metadata": {},
   "outputs": [
    {
     "data": {
      "text/plain": [
       "array([[-0.57993687,  0.53396444],\n",
       "       [ 0.28427718, -3.2148884 ],\n",
       "       [-1.08575208,  3.4177859 ]])"
      ]
     },
     "execution_count": 77,
     "metadata": {},
     "output_type": "execute_result"
    }
   ],
   "source": [
    "# Since python 3.5, the @ symbol can be used for matrix multiplication\n",
    "a @ b"
   ]
  },
  {
   "cell_type": "markdown",
   "metadata": {},
   "source": [
    "## Saving and loading data\n",
    "\n",
    "### Input\n",
    "\n",
    "* `numpy.load(file, mmap_mode=None, allow_pickle=True, fix_imports=True, encoding='ASCII')`\n",
    "\n",
    "load a `npy` or `npz` file,\n",
    "* `numpy.loadtxt(fname, dtype=<type 'float'>, comments='#', delimiter=None, converters=None, skiprows=0, usecols=None, unpack=False, ndmin=0)`\n",
    "\n",
    "load a `txt` file.\n",
    "\n",
    "### Output\n",
    "\n",
    "* `numpy.save(file, arr, allow_pickle=True, fix_imports=True)`\n",
    "\n",
    "save ONE array into a `npy` file,\n",
    "\n",
    "* `numpy.savez(file, *args, **kwds)`\n",
    "\n",
    "save many arrays into an `npz` file,\n",
    "\n",
    "* `numpy.savetxt(fname, X, fmt='%.18e', delimiter=' ', newline='\\n', header='', footer='', comments='# ')`\n",
    "\n",
    "save ONE array into a `txt` file,\n"
   ]
  },
  {
   "cell_type": "markdown",
   "metadata": {},
   "source": [
    "## Your turn\n",
    "\n",
    "Try to answer each following questions by a small snippet of code.\n",
    "\n",
    "1. How to reverse a vector (1d array) ?"
   ]
  },
  {
   "cell_type": "markdown",
   "metadata": {},
   "source": [
    "2. How to keep dimension consistency when slicing a matrix (2d array) ?"
   ]
  },
  {
   "cell_type": "markdown",
   "metadata": {},
   "source": [
    "3. How to create a (5,5) array with random values and find the extrema values ?"
   ]
  },
  {
   "cell_type": "markdown",
   "metadata": {},
   "source": [
    "4. With the help of broadcasting, how to produce a matrix A where A\\[i,j\\] = 2i + j ? (no for loop allowed)"
   ]
  },
  {
   "cell_type": "markdown",
   "metadata": {},
   "source": [
    "5.  A is a (4,4) int array, I want to change the last element of A to 1.5 without loosing any information. How can I do it ?"
   ]
  }
 ],
 "metadata": {
  "celltoolbar": "Tags",
  "kernelspec": {
   "display_name": "Python 3 (ipykernel)",
   "language": "python",
   "name": "python3"
  },
  "language_info": {
   "codemirror_mode": {
    "name": "ipython",
    "version": 3
   },
   "file_extension": ".py",
   "mimetype": "text/x-python",
   "name": "python",
   "nbconvert_exporter": "python",
   "pygments_lexer": "ipython3",
   "version": "3.9.7"
  }
 },
 "nbformat": 4,
 "nbformat_minor": 2
}
